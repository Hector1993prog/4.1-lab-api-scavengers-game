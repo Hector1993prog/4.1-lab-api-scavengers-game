{
 "cells": [
  {
   "cell_type": "markdown",
   "metadata": {},
   "source": [
    "# Reboot - Data Collection\n",
    "\n",
    "Let's practise calling an API and navigating a JSON response!\n",
    "\n",
    "---\n",
    "\n",
    "## 1. Simple API call\n",
    "\n",
    "There's an API for pretty much everything. Let's start with a super simple one: the [Breaking Bad quotes API](https://github.com/shevabam/breaking-bad-quotes) (alternatively, use the [Le Wagon Breaking Bad Quotes API](https://breaking-bad.lewagon.com/v1/quotes)).\n",
    "\n",
    "For your convenience, we've included the simple syntax to do an HTTP request in Python and convert the response to a Python object as boilerplate code.\n",
    "\n",
    "The goal here is to get a single, random Breaking Bad quote and print it out to the terminal. \n",
    "\n",
    "Go the [doc](https://github.com/shevabam/breaking-bad-quotes) to find out which URL you need to use. Make sure to carefully check out the data types you're getting back from the API and extract the string you need."
   ]
  },
  {
   "cell_type": "code",
   "execution_count": 1,
   "metadata": {},
   "outputs": [],
   "source": [
    "import requests\n",
    "\n",
    "url = 'https://api.breakingbadquotes.xyz/v1/quotes'\n"
   ]
  },
  {
   "cell_type": "code",
   "execution_count": 2,
   "metadata": {},
   "outputs": [],
   "source": [
    "response = requests.get(url).json()"
   ]
  },
  {
   "cell_type": "code",
   "execution_count": 3,
   "metadata": {},
   "outputs": [
    {
     "data": {
      "text/plain": [
       "[{'quote': 'Better call Saul!', 'author': 'Saul Goodman'}]"
      ]
     },
     "execution_count": 3,
     "metadata": {},
     "output_type": "execute_result"
    }
   ],
   "source": [
    "response"
   ]
  },
  {
   "cell_type": "markdown",
   "metadata": {},
   "source": [
    "---\n",
    "## 2. Looping over API results\n",
    "\n",
    "Often APIs will serve a list of results that we need to loop over and manipulate. For this next example, we will use the [Star Wars API](https://swapi.dev).\n",
    "\n",
    "First, go to the [documentation](https://swapi.dev/documentation) to find out which URL you're going to need to retrieve"
   ]
  },
  {
   "cell_type": "code",
   "execution_count": 21,
   "metadata": {
    "tags": [
     "challengify"
    ]
   },
   "outputs": [
    {
     "name": "stdout",
     "output_type": "stream",
     "text": [
      "https://swapi.dev/api/people/\n"
     ]
    }
   ],
   "source": [
    "url = 'https://swapi.dev/api/people/'\n",
    "print(url)"
   ]
  },
  {
   "cell_type": "markdown",
   "metadata": {},
   "source": [
    "Use `requests` to retrieve the people from the API. Store this in a `response` variable. What's the type of `response`?"
   ]
  },
  {
   "cell_type": "code",
   "execution_count": 22,
   "metadata": {
    "tags": [
     "challengify"
    ]
   },
   "outputs": [],
   "source": [
    "response = requests.get(url).json()"
   ]
  },
  {
   "cell_type": "code",
   "execution_count": 23,
   "metadata": {},
   "outputs": [
    {
     "data": {
      "text/plain": [
       "{'count': 82,\n",
       " 'next': 'https://swapi.dev/api/people/?page=2',\n",
       " 'previous': None,\n",
       " 'results': [{'name': 'Luke Skywalker',\n",
       "   'height': '172',\n",
       "   'mass': '77',\n",
       "   'hair_color': 'blond',\n",
       "   'skin_color': 'fair',\n",
       "   'eye_color': 'blue',\n",
       "   'birth_year': '19BBY',\n",
       "   'gender': 'male',\n",
       "   'homeworld': 'https://swapi.dev/api/planets/1/',\n",
       "   'films': ['https://swapi.dev/api/films/1/',\n",
       "    'https://swapi.dev/api/films/2/',\n",
       "    'https://swapi.dev/api/films/3/',\n",
       "    'https://swapi.dev/api/films/6/'],\n",
       "   'species': [],\n",
       "   'vehicles': ['https://swapi.dev/api/vehicles/14/',\n",
       "    'https://swapi.dev/api/vehicles/30/'],\n",
       "   'starships': ['https://swapi.dev/api/starships/12/',\n",
       "    'https://swapi.dev/api/starships/22/'],\n",
       "   'created': '2014-12-09T13:50:51.644000Z',\n",
       "   'edited': '2014-12-20T21:17:56.891000Z',\n",
       "   'url': 'https://swapi.dev/api/people/1/'},\n",
       "  {'name': 'C-3PO',\n",
       "   'height': '167',\n",
       "   'mass': '75',\n",
       "   'hair_color': 'n/a',\n",
       "   'skin_color': 'gold',\n",
       "   'eye_color': 'yellow',\n",
       "   'birth_year': '112BBY',\n",
       "   'gender': 'n/a',\n",
       "   'homeworld': 'https://swapi.dev/api/planets/1/',\n",
       "   'films': ['https://swapi.dev/api/films/1/',\n",
       "    'https://swapi.dev/api/films/2/',\n",
       "    'https://swapi.dev/api/films/3/',\n",
       "    'https://swapi.dev/api/films/4/',\n",
       "    'https://swapi.dev/api/films/5/',\n",
       "    'https://swapi.dev/api/films/6/'],\n",
       "   'species': ['https://swapi.dev/api/species/2/'],\n",
       "   'vehicles': [],\n",
       "   'starships': [],\n",
       "   'created': '2014-12-10T15:10:51.357000Z',\n",
       "   'edited': '2014-12-20T21:17:50.309000Z',\n",
       "   'url': 'https://swapi.dev/api/people/2/'},\n",
       "  {'name': 'R2-D2',\n",
       "   'height': '96',\n",
       "   'mass': '32',\n",
       "   'hair_color': 'n/a',\n",
       "   'skin_color': 'white, blue',\n",
       "   'eye_color': 'red',\n",
       "   'birth_year': '33BBY',\n",
       "   'gender': 'n/a',\n",
       "   'homeworld': 'https://swapi.dev/api/planets/8/',\n",
       "   'films': ['https://swapi.dev/api/films/1/',\n",
       "    'https://swapi.dev/api/films/2/',\n",
       "    'https://swapi.dev/api/films/3/',\n",
       "    'https://swapi.dev/api/films/4/',\n",
       "    'https://swapi.dev/api/films/5/',\n",
       "    'https://swapi.dev/api/films/6/'],\n",
       "   'species': ['https://swapi.dev/api/species/2/'],\n",
       "   'vehicles': [],\n",
       "   'starships': [],\n",
       "   'created': '2014-12-10T15:11:50.376000Z',\n",
       "   'edited': '2014-12-20T21:17:50.311000Z',\n",
       "   'url': 'https://swapi.dev/api/people/3/'},\n",
       "  {'name': 'Darth Vader',\n",
       "   'height': '202',\n",
       "   'mass': '136',\n",
       "   'hair_color': 'none',\n",
       "   'skin_color': 'white',\n",
       "   'eye_color': 'yellow',\n",
       "   'birth_year': '41.9BBY',\n",
       "   'gender': 'male',\n",
       "   'homeworld': 'https://swapi.dev/api/planets/1/',\n",
       "   'films': ['https://swapi.dev/api/films/1/',\n",
       "    'https://swapi.dev/api/films/2/',\n",
       "    'https://swapi.dev/api/films/3/',\n",
       "    'https://swapi.dev/api/films/6/'],\n",
       "   'species': [],\n",
       "   'vehicles': [],\n",
       "   'starships': ['https://swapi.dev/api/starships/13/'],\n",
       "   'created': '2014-12-10T15:18:20.704000Z',\n",
       "   'edited': '2014-12-20T21:17:50.313000Z',\n",
       "   'url': 'https://swapi.dev/api/people/4/'},\n",
       "  {'name': 'Leia Organa',\n",
       "   'height': '150',\n",
       "   'mass': '49',\n",
       "   'hair_color': 'brown',\n",
       "   'skin_color': 'light',\n",
       "   'eye_color': 'brown',\n",
       "   'birth_year': '19BBY',\n",
       "   'gender': 'female',\n",
       "   'homeworld': 'https://swapi.dev/api/planets/2/',\n",
       "   'films': ['https://swapi.dev/api/films/1/',\n",
       "    'https://swapi.dev/api/films/2/',\n",
       "    'https://swapi.dev/api/films/3/',\n",
       "    'https://swapi.dev/api/films/6/'],\n",
       "   'species': [],\n",
       "   'vehicles': ['https://swapi.dev/api/vehicles/30/'],\n",
       "   'starships': [],\n",
       "   'created': '2014-12-10T15:20:09.791000Z',\n",
       "   'edited': '2014-12-20T21:17:50.315000Z',\n",
       "   'url': 'https://swapi.dev/api/people/5/'},\n",
       "  {'name': 'Owen Lars',\n",
       "   'height': '178',\n",
       "   'mass': '120',\n",
       "   'hair_color': 'brown, grey',\n",
       "   'skin_color': 'light',\n",
       "   'eye_color': 'blue',\n",
       "   'birth_year': '52BBY',\n",
       "   'gender': 'male',\n",
       "   'homeworld': 'https://swapi.dev/api/planets/1/',\n",
       "   'films': ['https://swapi.dev/api/films/1/',\n",
       "    'https://swapi.dev/api/films/5/',\n",
       "    'https://swapi.dev/api/films/6/'],\n",
       "   'species': [],\n",
       "   'vehicles': [],\n",
       "   'starships': [],\n",
       "   'created': '2014-12-10T15:52:14.024000Z',\n",
       "   'edited': '2014-12-20T21:17:50.317000Z',\n",
       "   'url': 'https://swapi.dev/api/people/6/'},\n",
       "  {'name': 'Beru Whitesun lars',\n",
       "   'height': '165',\n",
       "   'mass': '75',\n",
       "   'hair_color': 'brown',\n",
       "   'skin_color': 'light',\n",
       "   'eye_color': 'blue',\n",
       "   'birth_year': '47BBY',\n",
       "   'gender': 'female',\n",
       "   'homeworld': 'https://swapi.dev/api/planets/1/',\n",
       "   'films': ['https://swapi.dev/api/films/1/',\n",
       "    'https://swapi.dev/api/films/5/',\n",
       "    'https://swapi.dev/api/films/6/'],\n",
       "   'species': [],\n",
       "   'vehicles': [],\n",
       "   'starships': [],\n",
       "   'created': '2014-12-10T15:53:41.121000Z',\n",
       "   'edited': '2014-12-20T21:17:50.319000Z',\n",
       "   'url': 'https://swapi.dev/api/people/7/'},\n",
       "  {'name': 'R5-D4',\n",
       "   'height': '97',\n",
       "   'mass': '32',\n",
       "   'hair_color': 'n/a',\n",
       "   'skin_color': 'white, red',\n",
       "   'eye_color': 'red',\n",
       "   'birth_year': 'unknown',\n",
       "   'gender': 'n/a',\n",
       "   'homeworld': 'https://swapi.dev/api/planets/1/',\n",
       "   'films': ['https://swapi.dev/api/films/1/'],\n",
       "   'species': ['https://swapi.dev/api/species/2/'],\n",
       "   'vehicles': [],\n",
       "   'starships': [],\n",
       "   'created': '2014-12-10T15:57:50.959000Z',\n",
       "   'edited': '2014-12-20T21:17:50.321000Z',\n",
       "   'url': 'https://swapi.dev/api/people/8/'},\n",
       "  {'name': 'Biggs Darklighter',\n",
       "   'height': '183',\n",
       "   'mass': '84',\n",
       "   'hair_color': 'black',\n",
       "   'skin_color': 'light',\n",
       "   'eye_color': 'brown',\n",
       "   'birth_year': '24BBY',\n",
       "   'gender': 'male',\n",
       "   'homeworld': 'https://swapi.dev/api/planets/1/',\n",
       "   'films': ['https://swapi.dev/api/films/1/'],\n",
       "   'species': [],\n",
       "   'vehicles': [],\n",
       "   'starships': ['https://swapi.dev/api/starships/12/'],\n",
       "   'created': '2014-12-10T15:59:50.509000Z',\n",
       "   'edited': '2014-12-20T21:17:50.323000Z',\n",
       "   'url': 'https://swapi.dev/api/people/9/'},\n",
       "  {'name': 'Obi-Wan Kenobi',\n",
       "   'height': '182',\n",
       "   'mass': '77',\n",
       "   'hair_color': 'auburn, white',\n",
       "   'skin_color': 'fair',\n",
       "   'eye_color': 'blue-gray',\n",
       "   'birth_year': '57BBY',\n",
       "   'gender': 'male',\n",
       "   'homeworld': 'https://swapi.dev/api/planets/20/',\n",
       "   'films': ['https://swapi.dev/api/films/1/',\n",
       "    'https://swapi.dev/api/films/2/',\n",
       "    'https://swapi.dev/api/films/3/',\n",
       "    'https://swapi.dev/api/films/4/',\n",
       "    'https://swapi.dev/api/films/5/',\n",
       "    'https://swapi.dev/api/films/6/'],\n",
       "   'species': [],\n",
       "   'vehicles': ['https://swapi.dev/api/vehicles/38/'],\n",
       "   'starships': ['https://swapi.dev/api/starships/48/',\n",
       "    'https://swapi.dev/api/starships/59/',\n",
       "    'https://swapi.dev/api/starships/64/',\n",
       "    'https://swapi.dev/api/starships/65/',\n",
       "    'https://swapi.dev/api/starships/74/'],\n",
       "   'created': '2014-12-10T16:16:29.192000Z',\n",
       "   'edited': '2014-12-20T21:17:50.325000Z',\n",
       "   'url': 'https://swapi.dev/api/people/10/'}]}"
      ]
     },
     "execution_count": 23,
     "metadata": {},
     "output_type": "execute_result"
    }
   ],
   "source": [
    "response"
   ]
  },
  {
   "cell_type": "code",
   "execution_count": 24,
   "metadata": {},
   "outputs": [
    {
     "data": {
      "text/plain": [
       "'Luke Skywalker'"
      ]
     },
     "execution_count": 24,
     "metadata": {},
     "output_type": "execute_result"
    }
   ],
   "source": [
    "response['results'][0]['name']"
   ]
  },
  {
   "cell_type": "markdown",
   "metadata": {
    "slideshow": {
     "slide_type": "slide"
    }
   },
   "source": [
    "Loop over the **5 first people** and print a sentece for each following this template:\n",
    "\n",
    "- `Luke Skywalker has blue eyes`\n",
    "- `C-3PO has yellow eyes`\n",
    "- etc."
   ]
  },
  {
   "cell_type": "code",
   "execution_count": 25,
   "metadata": {},
   "outputs": [],
   "source": [
    "from itertools import islice"
   ]
  },
  {
   "cell_type": "code",
   "execution_count": 26,
   "metadata": {},
   "outputs": [
    {
     "data": {
      "text/plain": [
       "\"\\nfor i in response['results'][0:5]:\\n    for a in islice(i.values(),0):\\n        for b in islice(i.values(),5):\\n            print(a)\\n           \\n\""
      ]
     },
     "execution_count": 26,
     "metadata": {},
     "output_type": "execute_result"
    }
   ],
   "source": [
    "\n",
    "'''\n",
    "for i in response['results'][0:5]:\n",
    "    for a in islice(i.values(),0):\n",
    "        for b in islice(i.values(),5):\n",
    "            print(a)\n",
    "     \n",
    "     \n",
    "     for i in response['results'][0:5]:\n",
    "    for a in islice(i.values(),0,6,5):\n",
    "        print(a)\n",
    "       \n",
    "'''      \n",
    "        \n",
    "    \n",
    "            "
   ]
  },
  {
   "cell_type": "code",
   "execution_count": 100,
   "metadata": {
    "tags": [
     "challengify"
    ]
   },
   "outputs": [
    {
     "name": "stdout",
     "output_type": "stream",
     "text": [
      "Luke Skywalker has blue eyes and the skin color is fair\n",
      "C-3PO has yellow eyes and the skin color is gold\n",
      "R2-D2 has red eyes and the skin color is white, blue\n",
      "Darth Vader has yellow eyes and the skin color is white\n",
      "Leia Organa has brown eyes and the skin color is light\n"
     ]
    }
   ],
   "source": [
    "for i in response['results'][0:5]:\n",
    "    for a in islice(i.values(),0,1):\n",
    "        for b in islice(i.values(),5, 6):\n",
    "            for c in islice(i.values(),4, 5):\n",
    "                print(a, 'has',  b, 'eyes and the skin color is', c)\n",
    "       \n",
    "    \n",
    "          "
   ]
  },
  {
   "cell_type": "code",
   "execution_count": 103,
   "metadata": {},
   "outputs": [],
   "source": [
    "st=[a for i in response['results'][0:5] for a in islice(i.values(),0,6,5)]"
   ]
  },
  {
   "cell_type": "code",
   "execution_count": 104,
   "metadata": {},
   "outputs": [
    {
     "data": {
      "text/plain": [
       "['Luke Skywalker',\n",
       " 'blue',\n",
       " 'C-3PO',\n",
       " 'yellow',\n",
       " 'R2-D2',\n",
       " 'red',\n",
       " 'Darth Vader',\n",
       " 'yellow',\n",
       " 'Leia Organa',\n",
       " 'brown']"
      ]
     },
     "execution_count": 104,
     "metadata": {},
     "output_type": "execute_result"
    }
   ],
   "source": [
    "st"
   ]
  },
  {
   "cell_type": "markdown",
   "metadata": {},
   "source": [
    "---\n",
    "## 3. Geocoding\n",
    "\n",
    "A geocoding service is a tool to convert addresses to geo-coordinates and vice versa. We use them every time we fire up our GPS apps and look for a destination.\n",
    "\n",
    "For this exercise, we will use the [Nominatim API](https://nominatim.openstreetmap.org/)\n",
    "\n",
    "First, get familiar with the documentation, [which you will find here](https://nominatim.org/release-docs/latest/api/Overview/). Take a couple of minutes to read through and become familiar with it. In this exercise, we will need to find a set of geo-coordinates for a given address, and find an address from a set of geo-coordinates."
   ]
  },
  {
   "cell_type": "markdown",
   "metadata": {},
   "source": [
    "Use the API to find the latitude and longitude for this address: `10 Downing St, Westminster, London SW1A 2AA, United Kingdom`."
   ]
  },
  {
   "cell_type": "code",
   "execution_count": 118,
   "metadata": {
    "tags": [
     "challengify"
    ]
   },
   "outputs": [
    {
     "data": {
      "text/plain": [
       "[{'place_id': 61805536,\n",
       "  'licence': 'Data © OpenStreetMap contributors, ODbL 1.0. https://osm.org/copyright',\n",
       "  'osm_type': 'node',\n",
       "  'osm_id': 5615371610,\n",
       "  'boundingbox': ['37.8735785', '37.8935785', '-4.7849734', '-4.7649734'],\n",
       "  'lat': '37.8835785',\n",
       "  'lon': '-4.7749734',\n",
       "  'display_name': 'Plaza de la Corredera, Santiago, Distrito Centro, Córdoba, Andalucía, 14002, España',\n",
       "  'class': 'place',\n",
       "  'type': 'quarter',\n",
       "  'importance': 0.87},\n",
       " {'place_id': 114629094,\n",
       "  'licence': 'Data © OpenStreetMap contributors, ODbL 1.0. https://osm.org/copyright',\n",
       "  'osm_type': 'way',\n",
       "  'osm_id': 35061457,\n",
       "  'boundingbox': ['37.8833024', '37.8838349', '-4.7751295', '-4.773847'],\n",
       "  'lat': '37.8836182',\n",
       "  'lon': '-4.774486195263158',\n",
       "  'display_name': 'Plaza de la Corredera, Calle Sánchez Peña, San Pedro, Santiago, Distrito Centro, Córdoba, Andalucía, 14002, España',\n",
       "  'class': 'tourism',\n",
       "  'type': 'attraction',\n",
       "  'importance': 0.8296239553712498,\n",
       "  'icon': 'https://nominatim.openstreetmap.org/ui/mapicons/poi_point_of_interest.p.20.png'},\n",
       " {'place_id': 190208737,\n",
       "  'licence': 'Data © OpenStreetMap contributors, ODbL 1.0. https://osm.org/copyright',\n",
       "  'osm_type': 'way',\n",
       "  'osm_id': 363605901,\n",
       "  'boundingbox': ['37.8838081', '37.8838124', '-4.7751776', '-4.7751279'],\n",
       "  'lat': '37.8838081',\n",
       "  'lon': '-4.7751279',\n",
       "  'display_name': 'Plaza de la Corredera, Santiago, Distrito Centro, Córdoba, Andalucía, 14002, España',\n",
       "  'class': 'highway',\n",
       "  'type': 'residential',\n",
       "  'importance': 0.72},\n",
       " {'place_id': 217185349,\n",
       "  'licence': 'Data © OpenStreetMap contributors, ODbL 1.0. https://osm.org/copyright',\n",
       "  'osm_type': 'way',\n",
       "  'osm_id': 519943604,\n",
       "  'boundingbox': ['37.8833302', '37.8833489', '-4.774644', '-4.7738791'],\n",
       "  'lat': '37.8833306',\n",
       "  'lon': '-4.7739009',\n",
       "  'display_name': 'Plaza de la Corredera, San Pedro, Santiago, Distrito Centro, Córdoba, Andalucía, 14002, España',\n",
       "  'class': 'highway',\n",
       "  'type': 'living_street',\n",
       "  'importance': 0.72},\n",
       " {'place_id': 224730017,\n",
       "  'licence': 'Data © OpenStreetMap contributors, ODbL 1.0. https://osm.org/copyright',\n",
       "  'osm_type': 'way',\n",
       "  'osm_id': 563890136,\n",
       "  'boundingbox': ['37.8833306', '37.8838041', '-4.7750891', '-4.7738752'],\n",
       "  'lat': '37.8836909',\n",
       "  'lon': '-4.7738752',\n",
       "  'display_name': 'Plaza de la Corredera, San Pedro, Santiago, Distrito Centro, Córdoba, Andalucía, 14002, España',\n",
       "  'class': 'highway',\n",
       "  'type': 'pedestrian',\n",
       "  'importance': 0.72},\n",
       " {'place_id': 190873717,\n",
       "  'licence': 'Data © OpenStreetMap contributors, ODbL 1.0. https://osm.org/copyright',\n",
       "  'osm_type': 'way',\n",
       "  'osm_id': 366800300,\n",
       "  'boundingbox': ['37.8833489', '37.8838081', '-4.7751279', '-4.774644'],\n",
       "  'lat': '37.8833536',\n",
       "  'lon': '-4.7750767',\n",
       "  'display_name': 'Plaza de la Corredera, Santiago, Distrito Centro, Córdoba, Andalucía, 14002, España',\n",
       "  'class': 'highway',\n",
       "  'type': 'pedestrian',\n",
       "  'importance': 0.72},\n",
       " {'place_id': 80661416,\n",
       "  'licence': 'Data © OpenStreetMap contributors, ODbL 1.0. https://osm.org/copyright',\n",
       "  'osm_type': 'node',\n",
       "  'osm_id': 7920207921,\n",
       "  'boundingbox': ['37.8832675', '37.8833675', '-4.7744531', '-4.7743531'],\n",
       "  'lat': '37.8833175',\n",
       "  'lon': '-4.7744031',\n",
       "  'display_name': 'Plaza de la Corredera, San Pedro, Santiago, Distrito Centro, Córdoba, Andalucía, 14002, España',\n",
       "  'class': 'highway',\n",
       "  'type': 'platform',\n",
       "  'importance': 0.6201}]"
      ]
     },
     "execution_count": 118,
     "metadata": {},
     "output_type": "execute_result"
    }
   ],
   "source": [
    "address = \"Plaza de la Corredera, Córdoba, España\"\n",
    "\n",
    "url = \"https://nominatim.openstreetmap.org/search?\"\n",
    "\n",
    "params = {\n",
    "    'q': address,\n",
    "    'format': 'json'\n",
    "}\n",
    "\n",
    "response = requests.get(url, params=params).json()\n",
    "response"
   ]
  },
  {
   "cell_type": "code",
   "execution_count": null,
   "metadata": {},
   "outputs": [],
   "source": []
  },
  {
   "cell_type": "markdown",
   "metadata": {},
   "source": [
    "Try with another address of your choice!"
   ]
  },
  {
   "cell_type": "markdown",
   "metadata": {},
   "source": [
    "---\n",
    "## 4. Reverse Geocoding\n",
    "\n",
    "Find the address belonging to this set of geo-coordinates: `{'lat': 38.8976633, 'lng': -77.036650 }`.\n",
    "Print the sentence `I would like to visit X`, replacing X with the address you found."
   ]
  },
  {
   "cell_type": "code",
   "execution_count": 124,
   "metadata": {
    "tags": [
     "challengify"
    ]
   },
   "outputs": [],
   "source": [
    "def reverse_coordinates(lat, lon):\n",
    "    url = \"https://nominatim.openstreetmap.org/reverse?\"\n",
    "    params = {\n",
    "        'lat': lat,\n",
    "        'lon': lon,\n",
    "        'format': 'json'\n",
    "    }\n",
    "    response = requests.get(url, params=params).json()\n",
    "    return response['display_name']"
   ]
  },
  {
   "cell_type": "code",
   "execution_count": 126,
   "metadata": {},
   "outputs": [
    {
     "data": {
      "text/plain": [
       "'Mercado de Abastos de la Corredera, Calle Sánchez Peña, Plaza de la Corredera, Santiago, Distrito Centro, Córdoba, Andalucía, 14002, España'"
      ]
     },
     "execution_count": 126,
     "metadata": {},
     "output_type": "execute_result"
    }
   ],
   "source": [
    "reverse_coordinates(37.8833175, -4.7744031)"
   ]
  },
  {
   "cell_type": "code",
   "execution_count": null,
   "metadata": {},
   "outputs": [],
   "source": []
  }
 ],
 "metadata": {
  "kernelspec": {
   "display_name": "Python 3 (ipykernel)",
   "language": "python",
   "name": "python3"
  },
  "language_info": {
   "codemirror_mode": {
    "name": "ipython",
    "version": 3
   },
   "file_extension": ".py",
   "mimetype": "text/x-python",
   "name": "python",
   "nbconvert_exporter": "python",
   "pygments_lexer": "ipython3",
   "version": "3.9.12"
  },
  "toc": {
   "base_numbering": 1,
   "nav_menu": {},
   "number_sections": true,
   "sideBar": true,
   "skip_h1_title": false,
   "title_cell": "Table of Contents",
   "title_sidebar": "Contents",
   "toc_cell": false,
   "toc_position": {},
   "toc_section_display": true,
   "toc_window_display": false
  }
 },
 "nbformat": 4,
 "nbformat_minor": 4
}
