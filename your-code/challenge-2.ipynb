{
 "cells": [
  {
   "cell_type": "markdown",
   "id": "threaded-asbestos",
   "metadata": {},
   "source": [
    "# Challenge 2: Count Commits\n",
    "\n",
    "Count how many commits were made in the past week.\n",
    "\n",
    "Obtain all the commits made in the past week via API, which is a JSON array that contains multiple commit objects.\n",
    "\n",
    "Count how many commit objects are contained in the array."
   ]
  },
  {
   "cell_type": "markdown",
   "id": "norwegian-praise",
   "metadata": {},
   "source": [
    "⚠️ **Remember to limit your output before submission**."
   ]
  },
  {
   "cell_type": "code",
   "execution_count": 3,
   "id": "developing-printing",
   "metadata": {},
   "outputs": [],
   "source": [
    "import json\n",
    "import requests as rq"
   ]
  },
  {
   "cell_type": "code",
   "execution_count": 4,
   "id": "5eb28da1",
   "metadata": {},
   "outputs": [],
   "source": [
    "with open(r'C:\\Users\\Héctor\\Documents\\IRONHACK\\DATA ANALIST\\BOOTCAMP\\Labs\\Semana 4\\4.1-lab-api-scavengers-game\\your-code\\token.txt', 'r') as f:\n",
    "    token = f.read()"
   ]
  },
  {
   "cell_type": "code",
   "execution_count": 5,
   "id": "c5ba6230",
   "metadata": {},
   "outputs": [],
   "source": [
    "main_lab= 'https://api.github.com/repos/Ironhack-Data-Madrid-Agosto-2022/3.4-lab-mongo/commits?since=2021-10-31'"
   ]
  },
  {
   "cell_type": "code",
   "execution_count": 6,
   "id": "c65e5c54",
   "metadata": {},
   "outputs": [
    {
     "data": {
      "text/plain": [
       "<Response [200]>"
      ]
     },
     "execution_count": 6,
     "metadata": {},
     "output_type": "execute_result"
    }
   ],
   "source": [
    "rq.get(main_lab)"
   ]
  },
  {
   "cell_type": "code",
   "execution_count": 7,
   "id": "0714215b",
   "metadata": {},
   "outputs": [],
   "source": [
    "res = rq.get('https://api.github.com/repos/Ironhack-Data-Madrid-Agosto-2022/3.4-lab-mongo/commits?since=2021-10-31')"
   ]
  },
  {
   "cell_type": "code",
   "execution_count": 8,
   "id": "d87ae5a7",
   "metadata": {},
   "outputs": [
    {
     "data": {
      "text/plain": [
       "[{'sha': '1d7838fbf80a88d8bfab2ed3cf201d48d8a57d7e',\n",
       "  'node_id': 'C_kwDOH4TgNdoAKDFkNzgzOGZiZjgwYTg4ZDhiZmFiMmVkM2NmMjAxZDQ4ZDhhNTdkN2U',\n",
       "  'commit': {'author': {'name': 'Gobuub',\n",
       "    'email': 'botica1982@msn.com',\n",
       "    'date': '2022-08-25T13:03:39Z'},\n",
       "   'committer': {'name': 'Gobuub',\n",
       "    'email': 'botica1982@msn.com',\n",
       "    'date': '2022-08-25T13:03:39Z'},\n",
       "   'message': 'update repo',\n",
       "   'tree': {'sha': '9b2bfbb3fb295199d8922ef91d7ad4386dc75178',\n",
       "    'url': 'https://api.github.com/repos/Ironhack-Data-Madrid-Agosto-2022/3.4-lab-mongo/git/trees/9b2bfbb3fb295199d8922ef91d7ad4386dc75178'},\n",
       "   'url': 'https://api.github.com/repos/Ironhack-Data-Madrid-Agosto-2022/3.4-lab-mongo/git/commits/1d7838fbf80a88d8bfab2ed3cf201d48d8a57d7e',\n",
       "   'comment_count': 0,\n",
       "   'verification': {'verified': False,\n",
       "    'reason': 'unsigned',\n",
       "    'signature': None,\n",
       "    'payload': None}},\n",
       "  'url': 'https://api.github.com/repos/Ironhack-Data-Madrid-Agosto-2022/3.4-lab-mongo/commits/1d7838fbf80a88d8bfab2ed3cf201d48d8a57d7e',\n",
       "  'html_url': 'https://github.com/Ironhack-Data-Madrid-Agosto-2022/3.4-lab-mongo/commit/1d7838fbf80a88d8bfab2ed3cf201d48d8a57d7e',\n",
       "  'comments_url': 'https://api.github.com/repos/Ironhack-Data-Madrid-Agosto-2022/3.4-lab-mongo/commits/1d7838fbf80a88d8bfab2ed3cf201d48d8a57d7e/comments',\n",
       "  'author': {'login': 'Gobuub',\n",
       "   'id': 80830529,\n",
       "   'node_id': 'MDQ6VXNlcjgwODMwNTI5',\n",
       "   'avatar_url': 'https://avatars.githubusercontent.com/u/80830529?v=4',\n",
       "   'gravatar_id': '',\n",
       "   'url': 'https://api.github.com/users/Gobuub',\n",
       "   'html_url': 'https://github.com/Gobuub',\n",
       "   'followers_url': 'https://api.github.com/users/Gobuub/followers',\n",
       "   'following_url': 'https://api.github.com/users/Gobuub/following{/other_user}',\n",
       "   'gists_url': 'https://api.github.com/users/Gobuub/gists{/gist_id}',\n",
       "   'starred_url': 'https://api.github.com/users/Gobuub/starred{/owner}{/repo}',\n",
       "   'subscriptions_url': 'https://api.github.com/users/Gobuub/subscriptions',\n",
       "   'organizations_url': 'https://api.github.com/users/Gobuub/orgs',\n",
       "   'repos_url': 'https://api.github.com/users/Gobuub/repos',\n",
       "   'events_url': 'https://api.github.com/users/Gobuub/events{/privacy}',\n",
       "   'received_events_url': 'https://api.github.com/users/Gobuub/received_events',\n",
       "   'type': 'User',\n",
       "   'site_admin': False},\n",
       "  'committer': {'login': 'Gobuub',\n",
       "   'id': 80830529,\n",
       "   'node_id': 'MDQ6VXNlcjgwODMwNTI5',\n",
       "   'avatar_url': 'https://avatars.githubusercontent.com/u/80830529?v=4',\n",
       "   'gravatar_id': '',\n",
       "   'url': 'https://api.github.com/users/Gobuub',\n",
       "   'html_url': 'https://github.com/Gobuub',\n",
       "   'followers_url': 'https://api.github.com/users/Gobuub/followers',\n",
       "   'following_url': 'https://api.github.com/users/Gobuub/following{/other_user}',\n",
       "   'gists_url': 'https://api.github.com/users/Gobuub/gists{/gist_id}',\n",
       "   'starred_url': 'https://api.github.com/users/Gobuub/starred{/owner}{/repo}',\n",
       "   'subscriptions_url': 'https://api.github.com/users/Gobuub/subscriptions',\n",
       "   'organizations_url': 'https://api.github.com/users/Gobuub/orgs',\n",
       "   'repos_url': 'https://api.github.com/users/Gobuub/repos',\n",
       "   'events_url': 'https://api.github.com/users/Gobuub/events{/privacy}',\n",
       "   'received_events_url': 'https://api.github.com/users/Gobuub/received_events',\n",
       "   'type': 'User',\n",
       "   'site_admin': False},\n",
       "  'parents': [{'sha': '0aaf92d60e3600411adac910859b606926fccd42',\n",
       "    'url': 'https://api.github.com/repos/Ironhack-Data-Madrid-Agosto-2022/3.4-lab-mongo/commits/0aaf92d60e3600411adac910859b606926fccd42',\n",
       "    'html_url': 'https://github.com/Ironhack-Data-Madrid-Agosto-2022/3.4-lab-mongo/commit/0aaf92d60e3600411adac910859b606926fccd42'}]},\n",
       " {'sha': '0aaf92d60e3600411adac910859b606926fccd42',\n",
       "  'node_id': 'C_kwDOH4TgNdoAKDBhYWY5MmQ2MGUzNjAwNDExYWRhYzkxMDg1OWI2MDY5MjZmY2NkNDI',\n",
       "  'commit': {'author': {'name': 'Gobuub',\n",
       "    'email': 'botica1982@msn.com',\n",
       "    'date': '2022-08-25T10:32:47Z'},\n",
       "   'committer': {'name': 'Gobuub',\n",
       "    'email': 'botica1982@msn.com',\n",
       "    'date': '2022-08-25T10:32:47Z'},\n",
       "   'message': 'upload lab',\n",
       "   'tree': {'sha': '9892a3b4e28df5db951f27f61c43d32954c64b48',\n",
       "    'url': 'https://api.github.com/repos/Ironhack-Data-Madrid-Agosto-2022/3.4-lab-mongo/git/trees/9892a3b4e28df5db951f27f61c43d32954c64b48'},\n",
       "   'url': 'https://api.github.com/repos/Ironhack-Data-Madrid-Agosto-2022/3.4-lab-mongo/git/commits/0aaf92d60e3600411adac910859b606926fccd42',\n",
       "   'comment_count': 0,\n",
       "   'verification': {'verified': False,\n",
       "    'reason': 'unsigned',\n",
       "    'signature': None,\n",
       "    'payload': None}},\n",
       "  'url': 'https://api.github.com/repos/Ironhack-Data-Madrid-Agosto-2022/3.4-lab-mongo/commits/0aaf92d60e3600411adac910859b606926fccd42',\n",
       "  'html_url': 'https://github.com/Ironhack-Data-Madrid-Agosto-2022/3.4-lab-mongo/commit/0aaf92d60e3600411adac910859b606926fccd42',\n",
       "  'comments_url': 'https://api.github.com/repos/Ironhack-Data-Madrid-Agosto-2022/3.4-lab-mongo/commits/0aaf92d60e3600411adac910859b606926fccd42/comments',\n",
       "  'author': {'login': 'Gobuub',\n",
       "   'id': 80830529,\n",
       "   'node_id': 'MDQ6VXNlcjgwODMwNTI5',\n",
       "   'avatar_url': 'https://avatars.githubusercontent.com/u/80830529?v=4',\n",
       "   'gravatar_id': '',\n",
       "   'url': 'https://api.github.com/users/Gobuub',\n",
       "   'html_url': 'https://github.com/Gobuub',\n",
       "   'followers_url': 'https://api.github.com/users/Gobuub/followers',\n",
       "   'following_url': 'https://api.github.com/users/Gobuub/following{/other_user}',\n",
       "   'gists_url': 'https://api.github.com/users/Gobuub/gists{/gist_id}',\n",
       "   'starred_url': 'https://api.github.com/users/Gobuub/starred{/owner}{/repo}',\n",
       "   'subscriptions_url': 'https://api.github.com/users/Gobuub/subscriptions',\n",
       "   'organizations_url': 'https://api.github.com/users/Gobuub/orgs',\n",
       "   'repos_url': 'https://api.github.com/users/Gobuub/repos',\n",
       "   'events_url': 'https://api.github.com/users/Gobuub/events{/privacy}',\n",
       "   'received_events_url': 'https://api.github.com/users/Gobuub/received_events',\n",
       "   'type': 'User',\n",
       "   'site_admin': False},\n",
       "  'committer': {'login': 'Gobuub',\n",
       "   'id': 80830529,\n",
       "   'node_id': 'MDQ6VXNlcjgwODMwNTI5',\n",
       "   'avatar_url': 'https://avatars.githubusercontent.com/u/80830529?v=4',\n",
       "   'gravatar_id': '',\n",
       "   'url': 'https://api.github.com/users/Gobuub',\n",
       "   'html_url': 'https://github.com/Gobuub',\n",
       "   'followers_url': 'https://api.github.com/users/Gobuub/followers',\n",
       "   'following_url': 'https://api.github.com/users/Gobuub/following{/other_user}',\n",
       "   'gists_url': 'https://api.github.com/users/Gobuub/gists{/gist_id}',\n",
       "   'starred_url': 'https://api.github.com/users/Gobuub/starred{/owner}{/repo}',\n",
       "   'subscriptions_url': 'https://api.github.com/users/Gobuub/subscriptions',\n",
       "   'organizations_url': 'https://api.github.com/users/Gobuub/orgs',\n",
       "   'repos_url': 'https://api.github.com/users/Gobuub/repos',\n",
       "   'events_url': 'https://api.github.com/users/Gobuub/events{/privacy}',\n",
       "   'received_events_url': 'https://api.github.com/users/Gobuub/received_events',\n",
       "   'type': 'User',\n",
       "   'site_admin': False},\n",
       "  'parents': []}]"
      ]
     },
     "execution_count": 8,
     "metadata": {},
     "output_type": "execute_result"
    }
   ],
   "source": [
    "res.json()"
   ]
  },
  {
   "cell_type": "code",
   "execution_count": 9,
   "id": "creative-stable",
   "metadata": {},
   "outputs": [],
   "source": [
    "# Example: print(variable[:10]) "
   ]
  },
  {
   "cell_type": "code",
   "execution_count": 10,
   "id": "ongoing-taylor",
   "metadata": {},
   "outputs": [
    {
     "data": {
      "text/plain": [
       "{'login': 'Gobuub',\n",
       " 'id': 80830529,\n",
       " 'node_id': 'MDQ6VXNlcjgwODMwNTI5',\n",
       " 'avatar_url': 'https://avatars.githubusercontent.com/u/80830529?v=4',\n",
       " 'gravatar_id': '',\n",
       " 'url': 'https://api.github.com/users/Gobuub',\n",
       " 'html_url': 'https://github.com/Gobuub',\n",
       " 'followers_url': 'https://api.github.com/users/Gobuub/followers',\n",
       " 'following_url': 'https://api.github.com/users/Gobuub/following{/other_user}',\n",
       " 'gists_url': 'https://api.github.com/users/Gobuub/gists{/gist_id}',\n",
       " 'starred_url': 'https://api.github.com/users/Gobuub/starred{/owner}{/repo}',\n",
       " 'subscriptions_url': 'https://api.github.com/users/Gobuub/subscriptions',\n",
       " 'organizations_url': 'https://api.github.com/users/Gobuub/orgs',\n",
       " 'repos_url': 'https://api.github.com/users/Gobuub/repos',\n",
       " 'events_url': 'https://api.github.com/users/Gobuub/events{/privacy}',\n",
       " 'received_events_url': 'https://api.github.com/users/Gobuub/received_events',\n",
       " 'type': 'User',\n",
       " 'site_admin': False}"
      ]
     },
     "execution_count": 10,
     "metadata": {},
     "output_type": "execute_result"
    }
   ],
   "source": [
    "res.json()[0]['committer']"
   ]
  },
  {
   "cell_type": "code",
   "execution_count": 11,
   "id": "f1e9028c",
   "metadata": {},
   "outputs": [
    {
     "data": {
      "text/plain": [
       "2"
      ]
     },
     "execution_count": 11,
     "metadata": {},
     "output_type": "execute_result"
    }
   ],
   "source": [
    "lista = []\n",
    "for i in res.json():\n",
    "    lista.append(i['committer'])\n",
    "\n",
    "    \n",
    "    "
   ]
  },
  {
   "cell_type": "code",
   "execution_count": 19,
   "id": "85c7beff",
   "metadata": {},
   "outputs": [
    {
     "data": {
      "text/plain": [
       "2"
      ]
     },
     "execution_count": 19,
     "metadata": {},
     "output_type": "execute_result"
    }
   ],
   "source": [
    "lista.count(i['committer'])"
   ]
  },
  {
   "cell_type": "code",
   "execution_count": null,
   "id": "2e7a1fc7",
   "metadata": {},
   "outputs": [],
   "source": []
  }
 ],
 "metadata": {
  "kernelspec": {
   "display_name": "Python 3 (ipykernel)",
   "language": "python",
   "name": "python3"
  },
  "language_info": {
   "codemirror_mode": {
    "name": "ipython",
    "version": 3
   },
   "file_extension": ".py",
   "mimetype": "text/x-python",
   "name": "python",
   "nbconvert_exporter": "python",
   "pygments_lexer": "ipython3",
   "version": "3.9.12"
  },
  "toc": {
   "base_numbering": 1,
   "nav_menu": {},
   "number_sections": true,
   "sideBar": true,
   "skip_h1_title": true,
   "title_cell": "Table of Contents",
   "title_sidebar": "Contents",
   "toc_cell": false,
   "toc_position": {
    "height": "calc(100% - 180px)",
    "left": "10px",
    "top": "150px",
    "width": "288px"
   },
   "toc_section_display": true,
   "toc_window_display": true
  }
 },
 "nbformat": 4,
 "nbformat_minor": 5
}
